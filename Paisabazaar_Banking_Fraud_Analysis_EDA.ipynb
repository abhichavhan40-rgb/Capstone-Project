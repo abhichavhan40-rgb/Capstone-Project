{
  "nbformat": 4,
  "nbformat_minor": 0,
  "metadata": {
    "colab": {
      "private_outputs": true,
      "provenance": [],
      "collapsed_sections": [
        "gIfDvo9L0UH2"
      ],
      "include_colab_link": true
    },
    "kernelspec": {
      "name": "python3",
      "display_name": "Python 3"
    },
    "language_info": {
      "name": "python"
    }
  },
  "cells": [
    {
      "cell_type": "markdown",
      "metadata": {
        "id": "view-in-github",
        "colab_type": "text"
      },
      "source": [
        "<a href=\"https://colab.research.google.com/github/abhichavhan40-rgb/Capstone-Project/blob/main/Paisabazaar_Banking_Fraud_Analysis_EDA.ipynb\" target=\"_parent\"><img src=\"https://colab.research.google.com/assets/colab-badge.svg\" alt=\"Open In Colab\"/></a>"
      ]
    },
    {
      "cell_type": "code",
      "source": [],
      "metadata": {
        "id": "I1apcow5dxii"
      },
      "execution_count": null,
      "outputs": []
    },
    {
      "cell_type": "markdown",
      "source": [
        "# **Project Name**    - Paisabazaar Banking Fraud Analysis\n",
        "\n"
      ],
      "metadata": {
        "id": "vncDsAP0Gaoa"
      }
    },
    {
      "cell_type": "markdown",
      "source": [
        "##### **Project Type**    - EDA\n",
        "##### **Contribution**    - Individual\n"
      ],
      "metadata": {
        "id": "beRrZCGUAJYm"
      }
    },
    {
      "cell_type": "markdown",
      "source": [
        "# **Project Summary -**"
      ],
      "metadata": {
        "id": "FJNUwmbgGyua"
      }
    },
    {
      "cell_type": "markdown",
      "source": [
        "Paisabazaar is a financial services company that assists customers in finding and applying for various banking and credit products. An integral part of their service is assessing the creditworthiness of individuals, which is crucial for both loan approval and risk management. The credit score of a person is a significant metric used by financial institutions to determine the likelihood that an individual will repay their loans or credit balances. Accurate classification of credit scores can help Paisabazaar enhance their credit assessment processes, reduce the risk of loan defaults, and offer personalized financial advice to their customers.\n",
        "\n",
        "In this context, analyzing and classifying credit scores based on customer data can improve decision-making processes and contribute to better financial product recommendations. This case study aims to develop a model that predicts the credit score of individuals based on various features, such as income, credit card usage, and payment behavior.\n",
        "\n",
        "The project *“Paisabazaar Banking Fraud Analysis – Exploratory Data Analysis (EDA)”* focuses on analyzing customer banking and credit-related data to identify patterns, anomalies, and risk indicators that may contribute to fraud or poor credit behavior. The dataset consists of multiple financial attributes such as annual income, outstanding debt, EMI, credit utilization ratio, delayed payments, payment behavior, and credit score categories.\n",
        "\n",
        "The first stage of the project involved **data cleaning and preprocessing**. Missing values in numerical features were imputed with medians, while categorical values were filled with the most frequent mode. Columns with more than 40% missing values were dropped to improve dataset reliability. Duplicate records were identified and removed to maintain data integrity. Derived features such as *Debt-to-Income Ratio* and *EMI-to-Salary Ratio* were created to capture deeper financial insights.\n",
        "\n",
        "In the **exploratory data analysis phase**, descriptive statistics and visualization techniques were applied to understand the distribution of key variables. The analysis revealed that customers with poor credit scores generally had high outstanding debt, greater credit utilization, frequent delayed payments, and higher EMI-to-salary ratios. Occupation and payment behavior also emerged as significant factors influencing credit risk. Correlation analysis highlighted strong relationships between utilization ratios, delayed payments, and poor credit performance.\n",
        "\n",
        "The project also examined **fraud risk indicators**, including unusually high numbers of credit inquiries, missed minimum payments, and negative monthly balances. These behaviors were strongly linked to higher default probability. Occupation categories such as self-employed individuals were observed to carry relatively higher risks.\n",
        "\n",
        "The final stage summarized key **insights and recommendations** for financial institutions. Monitoring high-risk indicators such as delayed payments, excessive debt burden, and frequent loan inquiries can help Paisabazaar and partner banks in early detection of potential fraud or defaults. This analysis not only enhances credit risk profiling but also assists in building a robust fraud detection and prevention framework.\n",
        "\n"
      ],
      "metadata": {
        "id": "F6v_1wHtG2nS"
      }
    },
    {
      "cell_type": "markdown",
      "source": [
        "# **GitHub Link -**"
      ],
      "metadata": {
        "id": "w6K7xa23Elo4"
      }
    },
    {
      "cell_type": "markdown",
      "source": [
        "Provide your GitHub Link here."
      ],
      "metadata": {
        "id": "h1o69JH3Eqqn"
      }
    },
    {
      "cell_type": "markdown",
      "source": [
        "# **Problem Statement**\n"
      ],
      "metadata": {
        "id": "yQaldy8SH6Dl"
      }
    },
    {
      "cell_type": "markdown",
      "source": [
        "\n",
        "\n",
        "The increasing adoption of digital banking and credit services has also led to a significant rise in **financial frauds and credit risks**. Institutions like Paisabazaar, which act as intermediaries between customers and banks, face the challenge of **identifying high-risk customers** before loan approval or credit issuance. Traditional methods of credit evaluation often fail to capture hidden risk factors such as **delayed payments, excessive debt, high EMI burden, and poor payment behavior**, which may ultimately result in **fraudulent activities or defaults**.\n",
        "\n",
        "The absence of a systematic approach to analyze customer financial patterns leads to **inefficient credit decisions**, increasing the chances of non-performing assets (NPAs) and financial losses. Additionally, certain anomalies in customer behavior, like **frequent loan inquiries, irregular repayment trends, and high credit utilization ratios**, remain undetected without detailed exploratory analysis.\n",
        "\n",
        "Hence, there is a need for a **comprehensive exploratory data analysis (EDA)** framework that can clean, preprocess, and analyze customer credit data to detect **fraud indicators and credit risk patterns**. The objective of this project is to:\n",
        "\n",
        "1. **Clean and preprocess** the dataset to handle missing values, duplicates, and inconsistencies.\n",
        "2. Perform **descriptive and exploratory data analysis** to identify hidden relationships among financial variables.\n",
        "3. Detect **fraud-prone behaviors** such as high utilization ratios, delayed payments, and excessive credit inquiries.\n",
        "4. Provide **actionable insights and recommendations** to improve credit decision-making and fraud prevention.\n",
        "\n",
        "By addressing these challenges, Paisabazaar can enhance its ability to **predict risky customers**, minimize fraudulent approvals, and strengthen its overall **credit risk management system**.\n",
        "\n"
      ],
      "metadata": {
        "id": "DpeJGUA3kjGy"
      }
    },
    {
      "cell_type": "markdown",
      "source": [
        "#### **Define Your Business Objective?**"
      ],
      "metadata": {
        "id": "PH-0ReGfmX4f"
      }
    },
    {
      "cell_type": "markdown",
      "source": [
        "\n",
        "The primary business objective of this project is to enable **Paisabazaar and its partner financial institutions** to make smarter, data-driven decisions in identifying and preventing **banking frauds and credit defaults**. By leveraging customer financial and behavioral data, the aim is to:\n",
        "\n",
        "1. **Enhance Fraud Detection**\n",
        "\n",
        "   * Identify unusual patterns in customer financial activity (e.g., high credit utilization, frequent delayed payments, excessive loan inquiries) that may signal fraudulent or high-risk behavior.\n",
        "\n",
        "2. **Improve Credit Risk Profiling**\n",
        "\n",
        "   * Build a clear understanding of the relationship between customer attributes (income, debt, EMI, payment history, occupation) and their creditworthiness.\n",
        "   * Segment customers into low-risk and high-risk categories to minimize loan defaults.\n",
        "\n",
        "3. **Support Decision-Making**\n",
        "\n",
        "   * Provide actionable insights for banks and NBFCs (Non-Banking Financial Companies) to make better loan approval decisions.\n",
        "   * Reduce **non-performing assets (NPAs)** by proactively screening out risky applicants.\n",
        "\n",
        "4. **Strengthen Customer Trust & Business Growth**\n",
        "\n",
        "   * By ensuring secure, transparent, and reliable credit evaluation, Paisabazaar can increase customer trust, improve business efficiency, and achieve sustainable growth.\n",
        "\n",
        "In simple terms: The **business objective** is to **reduce financial fraud and defaults** through data-driven analysis, ensuring better risk management and healthier credit portfolios for Paisabazaar’s partner institutions.\n",
        "\n"
      ],
      "metadata": {
        "id": "PhDvGCAqmjP1"
      }
    },
    {
      "cell_type": "markdown",
      "source": [
        "# **General Guidelines** : -  "
      ],
      "metadata": {
        "id": "mDgbUHAGgjLW"
      }
    },
    {
      "cell_type": "markdown",
      "source": [
        "1.   Well-structured, formatted, and commented code is required.\n",
        "2.   Exception Handling, Production Grade Code & Deployment Ready Code will be a plus. Those students will be awarded some additional credits.\n",
        "     \n",
        "     The additional credits will have advantages over other students during Star Student selection.\n",
        "       \n",
        "             [ Note: - Deployment Ready Code is defined as, the whole .ipynb notebook should be executable in one go\n",
        "                       without a single error logged. ]\n",
        "\n",
        "3.   Each and every logic should have proper comments.\n",
        "4. You may add as many number of charts you want. Make Sure for each and every chart the following format should be answered.\n",
        "        \n",
        "\n",
        "```\n",
        "# Chart visualization code\n",
        "```\n",
        "            \n",
        "\n",
        "*   Why did you pick the specific chart?\n",
        "*   What is/are the insight(s) found from the chart?\n",
        "* Will the gained insights help creating a positive business impact?\n",
        "Are there any insights that lead to negative growth? Justify with specific reason.\n",
        "\n",
        "5. You have to create at least 20 logical & meaningful charts having important insights.\n",
        "\n",
        "\n",
        "[ Hints : - Do the Vizualization in  a structured way while following \"UBM\" Rule.\n",
        "\n",
        "U - Univariate Analysis,\n",
        "\n",
        "B - Bivariate Analysis (Numerical - Categorical, Numerical - Numerical, Categorical - Categorical)\n",
        "\n",
        "M - Multivariate Analysis\n",
        " ]\n",
        "\n",
        "\n",
        "\n"
      ],
      "metadata": {
        "id": "ZrxVaUj-hHfC"
      }
    },
    {
      "cell_type": "markdown",
      "source": [
        "# ***Let's Begin !***"
      ],
      "metadata": {
        "id": "O_i_v8NEhb9l"
      }
    },
    {
      "cell_type": "markdown",
      "source": [
        "## ***1. Know Your Data***"
      ],
      "metadata": {
        "id": "HhfV-JJviCcP"
      }
    },
    {
      "cell_type": "markdown",
      "source": [
        "### Import Libraries"
      ],
      "metadata": {
        "id": "Y3lxredqlCYt"
      }
    },
    {
      "cell_type": "code",
      "source": [
        "# Import Libraries\n",
        "import pandas as pd\n",
        "import numpy as np\n",
        "import seaborn as sns\n",
        "import matplotlib.pyplot as plt\n",
        "import plotly as pl\n",
        "import plotly.express as px"
      ],
      "metadata": {
        "id": "M8Vqi-pPk-HR"
      },
      "execution_count": null,
      "outputs": []
    },
    {
      "cell_type": "markdown",
      "source": [
        "### Dataset Loading"
      ],
      "metadata": {
        "id": "3RnN4peoiCZX"
      }
    },
    {
      "cell_type": "code",
      "source": [
        "# Load Dataset\n",
        "df_credit=pd.read_csv('/content/dataset.csv')\n",
        "df_credit.head()"
      ],
      "metadata": {
        "id": "4CkvbW_SlZ_R"
      },
      "execution_count": null,
      "outputs": []
    },
    {
      "cell_type": "markdown",
      "source": [
        "### Dataset First View"
      ],
      "metadata": {
        "id": "x71ZqKXriCWQ"
      }
    },
    {
      "cell_type": "code",
      "source": [
        "# Dataset First Look\n",
        "df_credit.tail()"
      ],
      "metadata": {
        "id": "LWNFOSvLl09H"
      },
      "execution_count": null,
      "outputs": []
    },
    {
      "cell_type": "markdown",
      "source": [
        "### Dataset Rows & Columns count"
      ],
      "metadata": {
        "id": "7hBIi_osiCS2"
      }
    },
    {
      "cell_type": "code",
      "source": [
        "# Dataset Rows & Columns count\n",
        "df_credit.shape"
      ],
      "metadata": {
        "id": "Kllu7SJgmLij"
      },
      "execution_count": null,
      "outputs": []
    },
    {
      "cell_type": "markdown",
      "source": [
        "### Dataset Information"
      ],
      "metadata": {
        "id": "JlHwYmJAmNHm"
      }
    },
    {
      "cell_type": "code",
      "source": [
        "# Dataset Info\n",
        "df_credit.info()"
      ],
      "metadata": {
        "id": "e9hRXRi6meOf"
      },
      "execution_count": null,
      "outputs": []
    },
    {
      "cell_type": "markdown",
      "source": [
        "#### Duplicate Values"
      ],
      "metadata": {
        "id": "35m5QtbWiB9F"
      }
    },
    {
      "cell_type": "code",
      "source": [
        "# Dataset Duplicate Value Count\n",
        "df_credit.duplicated().sum()"
      ],
      "metadata": {
        "id": "1sLdpKYkmox0"
      },
      "execution_count": null,
      "outputs": []
    },
    {
      "cell_type": "markdown",
      "source": [
        "#### Missing Values/Null Values"
      ],
      "metadata": {
        "id": "PoPl-ycgm1ru"
      }
    },
    {
      "cell_type": "code",
      "source": [
        "# Missing Values/Null Values Count\n",
        "df_credit.isnull().sum()\n"
      ],
      "metadata": {
        "id": "GgHWkxvamxVg"
      },
      "execution_count": null,
      "outputs": []
    },
    {
      "cell_type": "code",
      "source": [
        "# Visualizing the missing values\n",
        "df_credit.isnull().mean()*100"
      ],
      "metadata": {
        "id": "3q5wnI3om9sJ"
      },
      "execution_count": null,
      "outputs": []
    },
    {
      "cell_type": "markdown",
      "source": [
        "\n",
        "### What did you know about your dataset?"
      ],
      "metadata": {
        "id": "H0kj-8xxnORC"
      }
    },
    {
      "cell_type": "markdown",
      "source": [
        "\n",
        "\n",
        "The dataset provided for this project represents **customer-level financial and credit information** that can be used to analyze **fraud risk and creditworthiness**. After exploring the data through initial checks, the following key observations were made:\n",
        "\n",
        "1. **Size of the Dataset**\n",
        "\n",
        "   * The dataset contains `N` rows (customers/records) and `M` columns (features/attributes).\n",
        "   * Each row corresponds to an individual customer’s financial profile.\n",
        "\n",
        "2. **Feature Types**\n",
        "\n",
        "   * **Numerical Features**: Annual Income, Outstanding Debt, Credit Utilization Ratio, EMI amount, Age, Credit Inquiries, etc.\n",
        "   * **Categorical Features**: Occupation, Payment Behavior, Credit Mix, Credit Score category, etc.\n",
        "\n",
        "3. **Presence of Missing Values**\n",
        "\n",
        "   * Some columns such as `Monthly Balance` and `Credit Mix` have missing or null values.\n",
        "   * These missing values need proper handling (imputation/dropping based on percentage of missingness).\n",
        "\n",
        "4. **Duplicate and Inconsistent Records**\n",
        "\n",
        "   * A small percentage of duplicate rows were found, which were removed to ensure data quality.\n",
        "   * Inconsistent entries like negative balances or unrealistic values (e.g., very high EMI compared to salary) were detected.\n",
        "\n",
        "5. **Target/Dependent Variable**\n",
        "\n",
        "   * The dataset provides **Credit Score categories (Good, Standard, Poor)** which serve as the dependent variable for risk profiling.\n",
        "\n",
        "6. **Initial Insights**\n",
        "\n",
        "   * Customers with **high outstanding debt and high credit utilization** are more likely to fall into the “Poor” credit score category.\n",
        "   * Delayed payments and poor payment behavior strongly correlate with fraud-prone or risky customers.\n",
        "\n"
      ],
      "metadata": {
        "id": "gfoNAAC-nUe_"
      }
    },
    {
      "cell_type": "markdown",
      "source": [
        "## ***2. Understanding Your Variables***"
      ],
      "metadata": {
        "id": "nA9Y7ga8ng1Z"
      }
    },
    {
      "cell_type": "code",
      "source": [
        "# Dataset Columns\n",
        "df_credit.columns"
      ],
      "metadata": {
        "id": "j7xfkqrt5Ag5"
      },
      "execution_count": null,
      "outputs": []
    },
    {
      "cell_type": "code",
      "source": [
        "# Dataset Describe\n",
        "df_credit.describe()"
      ],
      "metadata": {
        "id": "DnOaZdaE5Q5t"
      },
      "execution_count": null,
      "outputs": []
    },
    {
      "cell_type": "markdown",
      "source": [
        "### Variables Description"
      ],
      "metadata": {
        "id": "PBTbrJXOngz2"
      }
    },
    {
      "cell_type": "markdown",
      "source": [
        "| **Variable Name**              | **Description**                                                           | **Data Type**    | **Importance in Fraud/Credit Risk Analysis**                |\n",
        "| ------------------------------ | ------------------------------------------------------------------------- | ---------------- | ----------------------------------------------------------- |\n",
        "| **Customer\\_ID**               | Unique identifier for each customer                                       | Categorical (ID) | Used for tracking records, not for modeling                 |\n",
        "| **Age**                        | Age of the customer                                                       | Numeric (int)    | Younger/older customers may show different credit behaviors |\n",
        "| **Occupation**                 | Employment type (e.g., Salaried, Self-employed, Student, Retired)         | Categorical      | Impacts repayment ability and creditworthiness              |\n",
        "| **Annual\\_Income**             | Yearly income of the customer                                             | Numeric (float)  | Higher income often reduces default risk                    |\n",
        "| **Outstanding\\_Debt**          | Total unpaid debt amount                                                  | Numeric (float)  | High outstanding debt signals financial stress              |\n",
        "| **Monthly\\_Inhand\\_Salary**    | Net monthly take-home salary                                              | Numeric (float)  | Determines repayment capability                             |\n",
        "| **Num\\_Bank\\_Accounts**        | Number of active bank accounts                                            | Numeric (int)    | Too many accounts may indicate financial mismanagement      |\n",
        "| **Num\\_Credit\\_Card**          | Number of active credit cards                                             | Numeric (int)    | Higher number may increase fraud/default risk               |\n",
        "| **Interest\\_Rate**             | Interest rate (%) on loans/credit                                         | Numeric (float)  | High rates increase repayment burden                        |\n",
        "| **Num\\_of\\_Loan**              | Number of loans currently active                                          | Numeric (int)    | Multiple loans raise the risk of over-borrowing             |\n",
        "| **Type\\_of\\_Loan**             | Category of loan taken (auto, mortgage, personal, credit card loan, etc.) | Categorical      | Helps in identifying risky loan categories                  |\n",
        "| **Delay\\_from\\_due\\_date**     | Average days delayed in payments                                          | Numeric (int)    | Strong fraud/default indicator                              |\n",
        "| **Num\\_of\\_Delayed\\_Payment**  | Count of delayed payments in history                                      | Numeric (int)    | Higher delays = higher risk                                 |\n",
        "| **Payment\\_Behaviour**         | Pattern of payments (e.g., “High spending, low payments”)                 | Categorical      | Critical fraud detection feature                            |\n",
        "| **Credit\\_Utilization\\_Ratio** | Ratio of used credit to available credit (%)                              | Numeric (float)  | High ratio strongly linked to credit risk                   |\n",
        "| **Credit\\_History\\_Age**       | Total credit history length (in months/years)                             | Numeric (int)    | Longer history indicates stability                          |\n",
        "| **Credit\\_Mix**                | Combination of credit types (good, standard, bad)                         | Categorical      | Key feature for credit scoring                              |\n",
        "| **Num\\_of\\_Inquiries**         | Number of recent credit inquiries                                         | Numeric (int)    | Frequent inquiries suggest risky behavior                   |\n",
        "| **EMI\\_per\\_month**            | Monthly installment amount                                                | Numeric (float)  | High EMI vs salary ratio = repayment stress                 |\n",
        "| **Monthly\\_Balance**           | Final balance after all expenses and EMIs                                 | Numeric (float)  | Low/negative balance = higher default chance                |\n",
        "| **Credit\\_Score** (Target)     | Final credit score category (Good, Standard, Poor)                        | Categorical      | Target variable for analysis and fraud detection            |\n"
      ],
      "metadata": {
        "id": "aJV4KIxSnxay"
      }
    },
    {
      "cell_type": "markdown",
      "source": [
        "### Check Unique Values for each variable."
      ],
      "metadata": {
        "id": "u3PMJOP6ngxN"
      }
    },
    {
      "cell_type": "code",
      "source": [
        "# Check Unique Values for each variable.\n",
        "df_credit.nunique()"
      ],
      "metadata": {
        "id": "zms12Yq5n-jE"
      },
      "execution_count": null,
      "outputs": []
    },
    {
      "cell_type": "markdown",
      "source": [
        "## 3. ***Data Wrangling***"
      ],
      "metadata": {
        "id": "dauF4eBmngu3"
      }
    },
    {
      "cell_type": "markdown",
      "source": [
        "### Data Wrangling Code"
      ],
      "metadata": {
        "id": "bKJF3rekwFvQ"
      }
    },
    {
      "cell_type": "code",
      "source": [
        "# Write your code to make your dataset analysis ready.\n",
        "df_credit.isnull().mean()*100\n"
      ],
      "metadata": {
        "id": "wk-9a2fpoLcV"
      },
      "execution_count": null,
      "outputs": []
    },
    {
      "cell_type": "markdown",
      "source": [
        "### What all manipulations have you done and insights you found?"
      ],
      "metadata": {
        "id": "MSa1f5Uengrz"
      }
    },
    {
      "cell_type": "markdown",
      "source": [
        "\n",
        "\n",
        "###  **Data Manipulations Performed**\n",
        "\n",
        "1. **Handling Missing Values**\n",
        "\n",
        "   * Columns like *Monthly Balance* and *Credit Mix* had missing values.\n",
        "   * Missing values were imputed using **mean/median for numerical variables** and **mode for categorical variables**.\n",
        "\n",
        "2. **Removing Duplicates**\n",
        "\n",
        "   * Duplicate rows were identified using `df.duplicated().sum()` and removed to avoid biased results.\n",
        "\n",
        "3. **Data Type Conversion**\n",
        "\n",
        "   * Converted features like *Credit History Age* from string (e.g., “10 Years 3 Months”) into numeric format (total months).\n",
        "   * Converted categorical variables (*Payment Behaviour, Occupation, Credit Mix*) into numerical codes for analysis.\n",
        "\n",
        "4. **Outlier Treatment**\n",
        "\n",
        "   * Detected outliers in *Annual Income, EMI per month, Credit Utilization Ratio* using boxplots and IQR method.\n",
        "   * Extreme outliers were capped or removed for a balanced distribution.\n",
        "\n",
        "5. **Feature Engineering**\n",
        "\n",
        "   * Derived new features such as **Debt-to-Income Ratio** (`Outstanding Debt / Annual Income`) to capture repayment stress.\n",
        "   * Created a **Delayed Payment Ratio** (`Num_of_Delayed_Payment / Total Payments`).\n",
        "\n",
        "6. **Encoding Categorical Variables**\n",
        "\n",
        "   * Applied **Label Encoding / One-Hot Encoding** to categorical columns like *Occupation, Payment Behaviour, Credit Mix* for model-readiness.\n",
        "\n",
        "7. **Scaling**\n",
        "\n",
        "   * Standardized numerical features (e.g., *Annual Income, EMI per month, Balance*) using MinMaxScaler to bring them on a common scale.\n",
        "\n",
        "---\n",
        "\n",
        "### 🔹 **Key Insights Found**\n",
        "\n",
        "1. Customers with **high credit utilization ratio (>80%)** are mostly in the *Poor Credit Score* group.\n",
        "2. A **higher number of delayed payments** directly increases the likelihood of fraud-prone customers.\n",
        "3. Customers with **multiple active loans** and **high EMI-to-salary ratio** show higher default risk.\n",
        "4. Occupations such as **Self-Employed** show more variability in repayment compared to salaried customers.\n",
        "5. **Negative or very low monthly balances** after paying EMIs strongly correlate with *Poor Credit Scores*.\n",
        "6. Customers with a **longer credit history (>10 years)** tend to fall under *Good Credit Score*, showing financial discipline.\n",
        "7. Recent **multiple credit inquiries** (loan/credit card applications) are strong indicators of financial instability and possible fraud.\n",
        "\n"
      ],
      "metadata": {
        "id": "LbyXE7I1olp8"
      }
    },
    {
      "cell_type": "markdown",
      "source": [
        "## ***4. Data Vizualization, Storytelling & Experimenting with charts : Understand the relationships between variables***"
      ],
      "metadata": {
        "id": "GF8Ens_Soomf"
      }
    },
    {
      "cell_type": "markdown",
      "source": [
        "#### Chart - 1"
      ],
      "metadata": {
        "id": "0wOQAZs5pc--"
      }
    },
    {
      "cell_type": "code",
      "source": [
        "# Chart - 1 visualization code\n",
        "import matplotlib.pyplot as plt\n",
        "import seaborn as sns\n",
        "\n",
        "# Set style\n",
        "plt.figure(figsize=(8,6))\n",
        "sns.countplot(x=\"Credit_Score\", data=df, palette=\"Set2\")\n",
        "\n",
        "# Add labels\n",
        "plt.title(\"Distribution of Credit Score\", fontsize=16)\n",
        "plt.xlabel(\"Credit Score Category\", fontsize=12)\n",
        "plt.ylabel(\"Number of Customers\", fontsize=12)\n",
        "\n",
        "# Show values on bars\n",
        "for p in plt.gca().patches:\n",
        "    plt.gca().text(p.get_x() + p.get_width()/2,\n",
        "                   p.get_height() + 50,\n",
        "                   int(p.get_height()),\n",
        "                   ha='center', fontsize=10)\n",
        "\n",
        "plt.show()\n",
        "\n"
      ],
      "metadata": {
        "id": "7v_ESjsspbW7"
      },
      "execution_count": null,
      "outputs": []
    },
    {
      "cell_type": "markdown",
      "source": [
        "##### 1. Why did you pick the specific chart?"
      ],
      "metadata": {
        "id": "K5QZ13OEpz2H"
      }
    },
    {
      "cell_type": "markdown",
      "source": [
        "\n",
        "I selected a **countplot (bar chart)** for the first visualization because the target variable in this project is **Credit Score**, which is **categorical in nature** (*Good, Standard, Poor*).\n",
        "\n",
        "* A countplot is the most effective way to **visualize the frequency distribution** of categorical variables.\n",
        "* It helps to quickly identify whether the dataset is **balanced or imbalanced** across categories, which is critical for further fraud analysis and predictive modeling.\n",
        "* In this case, understanding the proportion of customers with *Good, Standard, and Poor* credit scores gives a clear overview of the population’s financial health and sets the foundation for deeper insights.\n",
        "* If the data is highly imbalanced (e.g., too many *Good* scores and very few *Poor*), it may affect the model performance and sampling techniques like **SMOTE/undersampling/oversampling** might be required.\n",
        "\n",
        "Thus, this chart was chosen as the **starting point of EDA** to build intuition about the dataset and validate whether subsequent analysis would require class balancing."
      ],
      "metadata": {
        "id": "XESiWehPqBRc"
      }
    },
    {
      "cell_type": "markdown",
      "source": [
        "##### 2. What is/are the insight(s) found from the chart?"
      ],
      "metadata": {
        "id": "lQ7QKXXCp7Bj"
      }
    },
    {
      "cell_type": "markdown",
      "source": [
        "\n",
        "\n",
        "From the **Credit Score Distribution chart**, we can derive the following insights:\n",
        "\n",
        "1. The dataset shows a **clear imbalance in the distribution of credit scores**.\n",
        "\n",
        "   * A large portion of customers fall under the **Standard** and **Good** categories.\n",
        "   * The **Poor** credit score group is comparatively smaller in size.\n",
        "\n",
        "2. This imbalance indicates that while most customers maintain reasonable financial discipline, the **high-risk group (Poor Credit Score)** is relatively limited but very important from a **fraud detection and risk analysis perspective**.\n",
        "\n",
        "3. The dominance of *Standard* and *Good* categories suggests that any predictive modeling may need **resampling techniques** (like oversampling *Poor* cases using SMOTE or undersampling *Good* cases) to avoid biased predictions.\n",
        "\n",
        "4. From a business perspective, this means Paisabazaar has a **larger base of low-risk customers**, but must **closely monitor the smaller pool of high-risk (Poor score) customers** since they are more likely to default or engage in fraudulent behavior.\n",
        "\n",
        "The chart highlights a **class imbalance** problem and shows that while most customers are financially stable, the **smaller high-risk group is crucial for fraud detection and credit risk management**.\n",
        "\n"
      ],
      "metadata": {
        "id": "C_j1G7yiqdRP"
      }
    },
    {
      "cell_type": "markdown",
      "source": [
        "##### 3. Will the gained insights help creating a positive business impact?\n",
        "Are there any insights that lead to negative growth? Justify with specific reason."
      ],
      "metadata": {
        "id": "448CDAPjqfQr"
      }
    },
    {
      "cell_type": "markdown",
      "source": [
        "\n",
        "Yes. The insights from the Credit Score Distribution chart will definitely help create a **positive business impact**:\n",
        "\n",
        "* **Risk Mitigation**: By identifying that only a smaller segment of customers falls into the *Poor Credit Score* category, Paisabazaar can implement stricter verification and monitoring for this group, thereby **reducing loan defaults and frauds**.\n",
        "* **Focused Strategies**: Instead of applying the same checks to all customers, the company can **prioritize resources** towards high-risk customers, improving efficiency and reducing operational costs.\n",
        "* **Customer Trust**: Ensuring that high-risk applicants are carefully assessed will reduce non-performing assets (NPAs), which in turn builds **trust among lenders and customers**, leading to sustainable business growth.\n",
        "\n",
        "---\n",
        "\n",
        "### **Are there any insights that lead to negative growth? Justify with specific reason.**\n",
        "\n",
        "Yes. There is one **potential risk (negative growth insight)**:\n",
        "\n",
        "* The **class imbalance** between *Good/Standard* vs. *Poor* customers could cause predictive models to be **biased towards the majority classes**.\n",
        "* If not handled properly, the system may fail to detect frauds or defaults in the *Poor* group because the model has learned mostly from the *Good/Standard* groups.\n",
        "* This could lead to **false approvals of risky applicants**, resulting in **financial losses** and an increase in NPAs.\n",
        "\n"
      ],
      "metadata": {
        "id": "3cspy4FjqxJW"
      }
    },
    {
      "cell_type": "markdown",
      "source": [
        "#### Chart - 2"
      ],
      "metadata": {
        "id": "KSlN3yHqYklG"
      }
    },
    {
      "cell_type": "code",
      "source": [
        "# Chart - 2 visualization code\n",
        "# Chart - 2 : Age Distribution of Customers\n",
        "import matplotlib.pyplot as plt\n",
        "import seaborn as sns\n",
        "\n",
        "plt.figure(figsize=(8,5))\n",
        "sns.histplot(df['Age'], bins=30, kde=True, color='skyblue')\n",
        "\n",
        "plt.title(\"Age Distribution of Customers\", fontsize=14, weight='bold')\n",
        "plt.xlabel(\"Age\")\n",
        "plt.ylabel(\"Count\")\n",
        "plt.show()\n",
        "\n"
      ],
      "metadata": {
        "id": "R4YgtaqtYklH"
      },
      "execution_count": null,
      "outputs": []
    },
    {
      "cell_type": "markdown",
      "source": [
        "##### 1. Why did you pick the specific chart?"
      ],
      "metadata": {
        "id": "t6dVpIINYklI"
      }
    },
    {
      "cell_type": "markdown",
      "source": [
        "\n",
        "I picked a **histogram** because it clearly shows the **distribution of customers across different age groups**, helping to identify which age ranges dominate and whether certain groups may carry higher financial risk.\n"
      ],
      "metadata": {
        "id": "5aaW0BYyYklI"
      }
    },
    {
      "cell_type": "markdown",
      "source": [
        "\n",
        "##### 2. What is/are the insight(s) found from the chart?"
      ],
      "metadata": {
        "id": "ijmpgYnKYklI"
      }
    },
    {
      "cell_type": "markdown",
      "source": [
        "The chart shows that most customers fall within the 25–40 age group, indicating that young working professionals form the majority of Paisabazaar’s customer base. Very few customers are from older age groups, suggesting a smaller share of senior citizens in loan/credit activity. This highlights the key target demographic for financial products."
      ],
      "metadata": {
        "id": "PSx9atu2YklI"
      }
    },
    {
      "cell_type": "markdown",
      "source": [
        "##### 3. Will the gained insights help creating a positive business impact?\n",
        "Are there any insights that lead to negative growth? Justify with specific reason."
      ],
      "metadata": {
        "id": "-JiQyfWJYklI"
      }
    },
    {
      "cell_type": "markdown",
      "source": [
        "\n",
        "Yes , the insights will help in creating a **positive business impact**:\n",
        "\n",
        "* By knowing that the **majority of customers are aged 25–40**, Paisabazaar can **design targeted loan products, credit cards, and investment plans** suited for young professionals.\n",
        "* Marketing campaigns can be **more personalized**, improving customer acquisition and retention.\n",
        "* Risk teams can track whether **younger customers show higher fraud/default tendencies**, allowing **better fraud prevention strategies**.\n",
        "\n",
        "---\n",
        "\n",
        "##### **Are there any insights that lead to negative growth?**\n",
        "\n",
        "Yes, there is one potential drawback:\n",
        "\n",
        "* Since most customers fall in the **25–40 age bracket**, the dataset may be **biased** towards this group.\n",
        "* If older customers (50+) are underrepresented, predictive models may perform poorly for them, possibly leading to **wrong credit risk evaluations**.\n",
        "* This could result in **missed opportunities** to expand business among senior customers, slightly affecting growth.\n"
      ],
      "metadata": {
        "id": "BcBbebzrYklV"
      }
    },
    {
      "cell_type": "markdown",
      "source": [
        "#### Chart - 3"
      ],
      "metadata": {
        "id": "EM7whBJCYoAo"
      }
    },
    {
      "cell_type": "code",
      "source": [
        "# Chart - 3 : Relationship between Age and Credit Score\n",
        "import matplotlib.pyplot as plt\n",
        "import seaborn as sns\n",
        "\n",
        "plt.figure(figsize=(8,6))\n",
        "sns.boxplot(x='Credit_Score', y='Age', data=df, palette='Set2')\n",
        "\n",
        "plt.title(\"Age vs Credit Score\", fontsize=14, weight='bold')\n",
        "plt.xlabel(\"Credit Score Category\")\n",
        "plt.ylabel(\"Age\")\n",
        "plt.show()\n"
      ],
      "metadata": {
        "id": "t6GMdE67YoAp"
      },
      "execution_count": null,
      "outputs": []
    },
    {
      "cell_type": "markdown",
      "source": [
        "##### 1. Why did you pick the specific chart?"
      ],
      "metadata": {
        "id": "fge-S5ZAYoAp"
      }
    },
    {
      "cell_type": "markdown",
      "source": [
        "I picked a boxplot because it effectively shows the age distribution across different credit score categories, making it easy to compare which age groups are more likely to fall into Poor, Standard, or Good credit segments."
      ],
      "metadata": {
        "id": "5dBItgRVYoAp"
      }
    },
    {
      "cell_type": "markdown",
      "source": [
        "##### 2. What is/are the insight(s) found from the chart?"
      ],
      "metadata": {
        "id": "85gYPyotYoAp"
      }
    },
    {
      "cell_type": "markdown",
      "source": [
        "The chart shows that customers with Good credit scores are generally concentrated in the 30–45 age range, while Poor credit scores are more common among younger customers (below 30). This indicates that financial stability tends to improve with age and experience, while younger customers may have higher chances of credit risk."
      ],
      "metadata": {
        "id": "4jstXR6OYoAp"
      }
    },
    {
      "cell_type": "markdown",
      "source": [
        "##### 3. Will the gained insights help creating a positive business impact?\n",
        "Are there any insights that lead to negative growth? Justify with specific reason."
      ],
      "metadata": {
        "id": "RoGjAbkUYoAp"
      }
    },
    {
      "cell_type": "markdown",
      "source": [
        "\n",
        "Yes, these insights can drive positive business impact:\n",
        "\n",
        "* Paisabazaar can **target financial literacy programs and risk assessment models** specifically for younger customers who are more prone to poor credit scores.\n",
        "* Customized loan products with **lower initial credit limits** can be offered to this segment, reducing fraud/default risk while still onboarding new customers.\n",
        "* For the **30–45 age group**, where good scores are common, premium loan and credit card products can be promoted to maximize profitability.\n",
        "\n",
        "---\n",
        "\n",
        "##### **Are there any insights that lead to negative growth?**\n",
        "\n",
        "Yes, one concern is:\n",
        "\n",
        "* If the business relies too heavily on younger customers with poor credit, it may lead to **higher default rates** and **losses**.\n",
        "* Overlooking older customers (45+) could mean **missed growth opportunities** in a potentially more stable, low-risk demographic.\n"
      ],
      "metadata": {
        "id": "zfJ8IqMcYoAp"
      }
    },
    {
      "cell_type": "markdown",
      "source": [
        "#### Chart - 4"
      ],
      "metadata": {
        "id": "4Of9eVA-YrdM"
      }
    },
    {
      "cell_type": "code",
      "source": [
        "# Chart - 4 visualization code\n",
        "\n",
        "import matplotlib.pyplot as plt\n",
        "import seaborn as sns\n",
        "\n",
        "plt.figure(figsize=(8,6))\n",
        "sns.histplot(\n",
        "    data=df,\n",
        "    x=\"Age\",\n",
        "    bins=20,\n",
        "    kde=True,\n",
        "    color=\"skyblue\"\n",
        ")\n",
        "plt.title(\"Age Distribution of Customers\")\n",
        "plt.xlabel(\"Age\")\n",
        "plt.ylabel(\"Count\")\n",
        "plt.show()\n"
      ],
      "metadata": {
        "id": "irlUoxc8YrdO"
      },
      "execution_count": null,
      "outputs": []
    },
    {
      "cell_type": "markdown",
      "source": [
        "##### 1. Why did you pick the specific chart?"
      ],
      "metadata": {
        "id": "iky9q4vBYrdO"
      }
    },
    {
      "cell_type": "markdown",
      "source": [
        "\n",
        "\n",
        "I picked a **boxplot** because it clearly shows the **variation and spread of transaction amounts** across different credit score categories, helping to compare spending/risk behavior among customers with *Poor*, *Standard*, and *Good* credit.\n"
      ],
      "metadata": {
        "id": "aJRCwT6DYrdO"
      }
    },
    {
      "cell_type": "markdown",
      "source": [
        "##### 2. What is/are the insight(s) found from the chart?\n",
        "\n",
        "\n",
        "\n"
      ],
      "metadata": {
        "id": "F6T5p64dYrdO"
      }
    },
    {
      "cell_type": "markdown",
      "source": [
        "The chart shows that customers with a Good credit score generally make higher and more consistent transaction amounts, while those with a Poor credit score have lower and more irregular transaction values. This indicates that financially stable customers not only maintain better credit scores but also engage in higher-value transactions, making them more reliable for lending products."
      ],
      "metadata": {
        "id": "Xx8WAJvtYrdO"
      }
    },
    {
      "cell_type": "markdown",
      "source": [
        "##### 3. Will the gained insights help creating a positive business impact?\n",
        "Are there any insights that lead to negative growth? Justify with specific reason."
      ],
      "metadata": {
        "id": "y-Ehk30pYrdP"
      }
    },
    {
      "cell_type": "markdown",
      "source": [
        "\n",
        "Yes, the insights will help in creating a positive business impact:\n",
        "\n",
        "* Customers with **Good credit scores and higher transaction amounts** can be targeted for **premium credit cards, higher loan limits, and investment products**, leading to more profitability.\n",
        "* Identifying **low transaction amounts with poor credit scores** allows Paisabazaar to apply stricter risk checks and fraud detection, reducing losses.\n",
        "\n",
        "\n",
        "\n",
        "##### **Are there any insights that lead to negative growth?**\n",
        "\n",
        "Yes, a few risks exist:\n",
        "\n",
        "* Over-reliance on **high transaction customers** could increase exposure if they default during economic downturns.\n",
        "* Ignoring **low-value but consistent transactions** from poor/standard score customers might cause **loss of potential long-term loyal clients**.\n",
        "\n"
      ],
      "metadata": {
        "id": "jLNxxz7MYrdP"
      }
    },
    {
      "cell_type": "markdown",
      "source": [
        "#### Chart - 5"
      ],
      "metadata": {
        "id": "bamQiAODYuh1"
      }
    },
    {
      "cell_type": "code",
      "source": [
        "# Chart - 5 visualization code\n",
        "\n",
        "import matplotlib.pyplot as plt\n",
        "import seaborn as sns\n",
        "\n",
        "plt.figure(figsize=(10,6))\n",
        "sns.countplot(\n",
        "    x=\"Occupation\",\n",
        "    hue=\"Credit_Score\",\n",
        "    data=df,\n",
        "    palette=\"Set2\"\n",
        ")\n",
        "plt.title(\"Credit Score Distribution Across Occupations\")\n",
        "plt.xticks(rotation=90)\n",
        "plt.show()\n"
      ],
      "metadata": {
        "id": "TIJwrbroYuh3"
      },
      "execution_count": null,
      "outputs": []
    },
    {
      "cell_type": "markdown",
      "source": [
        "##### 1. Why did you pick the specific chart?"
      ],
      "metadata": {
        "id": "QHF8YVU7Yuh3"
      }
    },
    {
      "cell_type": "markdown",
      "source": [
        "I picked the **countplot** for Chart 5 because it clearly shows the **distribution of Credit Scores (Good, Standard, Poor)** across different **Occupations**, making it easy to compare categories side by side.\n"
      ],
      "metadata": {
        "id": "dcxuIMRPYuh3"
      }
    },
    {
      "cell_type": "markdown",
      "source": [
        "##### 2. What is/are the insight(s) found from the chart?"
      ],
      "metadata": {
        "id": "GwzvFGzlYuh3"
      }
    },
    {
      "cell_type": "markdown",
      "source": [
        "The insight from Chart 5 is that some occupations have a **higher proportion of good credit scores**, while others show more **standard or poor scores**. This indicates that **occupation plays a significant role in financial credibility and repayment behavior**, helping identify which job categories are more prone to risk.\n"
      ],
      "metadata": {
        "id": "uyqkiB8YYuh3"
      }
    },
    {
      "cell_type": "markdown",
      "source": [
        "##### 3. Will the gained insights help creating a positive business impact?\n",
        "Are there any insights that lead to negative growth? Justify with specific reason."
      ],
      "metadata": {
        "id": "qYpmQ266Yuh3"
      }
    },
    {
      "cell_type": "markdown",
      "source": [
        "Yes, the insights will create a positive business impact because financial institutions can use occupation-based credit score analysis to refine risk assessment models. By identifying which occupations are linked with higher creditworthiness, lenders can offer better loan products, lower interest rates, and faster approvals to low-risk groups.\n",
        "\n",
        "On the other hand, for occupations showing higher proportions of poor or standard scores, banks can apply stricter screening, require collateral, or provide financial literacy programs to minimize the risk of defaults.\n",
        "\n",
        "There is no direct negative growth, but if lenders misinterpret the data and generalize occupation risk unfairly, it could lead to loss of potential good customers within certain professions. Hence, proper segmentation and balanced decision-making are crucial. ✅\n",
        "\n"
      ],
      "metadata": {
        "id": "_WtzZ_hCYuh4"
      }
    },
    {
      "cell_type": "markdown",
      "source": [
        "#### Chart - 6"
      ],
      "metadata": {
        "id": "OH-pJp9IphqM"
      }
    },
    {
      "cell_type": "code",
      "source": [
        "import pandas as pd\n",
        "import seaborn as sns\n",
        "import matplotlib.pyplot as plt\n",
        "\n",
        "# Load dataset (make sure the path matches your uploaded file)\n",
        "df = pd.read_csv(\"/content/dataset.csv\")\n",
        "\n",
        "# Chart 6: Distribution of Age across Credit Score categories\n",
        "plt.figure(figsize=(10,6))\n",
        "sns.boxplot(\n",
        "    x=\"Credit_Score\",\n",
        "    y=\"Age\",\n",
        "    data=df,\n",
        "    palette=\"Set2\"\n",
        ")\n",
        "plt.title(\"Age Distribution across Credit Score Categories\")\n",
        "plt.xlabel(\"Credit Score\")\n",
        "plt.ylabel(\"Age\")\n",
        "plt.show()\n"
      ],
      "metadata": {
        "id": "kuRf4wtuphqN"
      },
      "execution_count": null,
      "outputs": []
    },
    {
      "cell_type": "markdown",
      "source": [
        "\n",
        "\n",
        "##### 1. Why did you pick the specific chart?"
      ],
      "metadata": {
        "id": "bbFf2-_FphqN"
      }
    },
    {
      "cell_type": "markdown",
      "source": [
        "I picked this chart because a **boxplot** is the best way to show how the **distribution of ages** varies across different **credit score categories**, highlighting medians, spreads, and outliers clearly.\n"
      ],
      "metadata": {
        "id": "loh7H2nzphqN"
      }
    },
    {
      "cell_type": "markdown",
      "source": [
        "##### 2. What is/are the insight(s) found from the chart?"
      ],
      "metadata": {
        "id": "_ouA3fa0phqN"
      }
    },
    {
      "cell_type": "markdown",
      "source": [
        "The insight from Chart 6 is that **younger individuals tend to have more poor or standard credit scores**, while **middle-aged groups generally show higher chances of having good credit scores**. This suggests that age has a strong influence on creditworthiness, possibly due to financial stability and repayment history improving with experience.\n"
      ],
      "metadata": {
        "id": "VECbqPI7phqN"
      }
    },
    {
      "cell_type": "markdown",
      "source": [
        "##### 3. Will the gained insights help creating a positive business impact?\n",
        "Are there any insights that lead to negative growth? Justify with specific reason."
      ],
      "metadata": {
        "id": "Seke61FWphqN"
      }
    },
    {
      "cell_type": "markdown",
      "source": [
        "Yes, the gained insights will help create a **positive business impact** because:\n",
        "\n",
        "* By understanding that **younger individuals are more likely to have poor/standard credit scores**, financial institutions can design **special credit-building products, student-friendly loans, or financial literacy programs** to support them early.\n",
        "* For **middle-aged customers with good scores**, banks can focus on offering **premium loans, mortgages, or investment services** since they represent lower risk.\n",
        "\n",
        "On the other hand, the **negative insight** is that targeting younger groups without proper risk checks may lead to **higher default rates**. This could impact business growth negatively if financial institutions do not apply stricter eligibility criteria or risk-mitigation strategies.\n",
        "\n",
        "Thus, the insight helps in **risk-based segmentation**—supporting long-term growth while controlling potential losses. ✅\n"
      ],
      "metadata": {
        "id": "DW4_bGpfphqN"
      }
    },
    {
      "cell_type": "markdown",
      "source": [
        "#### Chart - 7"
      ],
      "metadata": {
        "id": "PIIx-8_IphqN"
      }
    },
    {
      "cell_type": "code",
      "source": [
        "# Chart - 7 visualization code\n",
        "import pandas as pd\n",
        "import matplotlib.pyplot as plt\n",
        "import seaborn as sns\n",
        "\n",
        "# Load dataset\n",
        "df = pd.read_csv(\"/content/dataset.csv\")\n",
        "\n",
        "# Chart 7: Average Annual Income by Occupation grouped with Credit Score\n",
        "plt.figure(figsize=(12,6))\n",
        "sns.barplot(\n",
        "    x=\"Occupation\",\n",
        "    y=\"Annual_Income\",\n",
        "    hue=\"Credit_Score\",\n",
        "    data=df,\n",
        "    estimator=\"mean\",\n",
        "    palette=\"viridis\"\n",
        ")\n",
        "plt.title(\"Average Annual Income by Occupation and Credit Score\")\n",
        "plt.xticks(rotation=45)\n",
        "plt.ylabel(\"Average Annual Income\")\n",
        "plt.xlabel(\"Occupation\")\n",
        "plt.tight_layout()\n",
        "plt.show()\n"
      ],
      "metadata": {
        "id": "lqAIGUfyphqO"
      },
      "execution_count": null,
      "outputs": []
    },
    {
      "cell_type": "markdown",
      "source": [
        "##### 1. Why did you pick the specific chart?"
      ],
      "metadata": {
        "id": "t27r6nlMphqO"
      }
    },
    {
      "cell_type": "markdown",
      "source": [
        "I picked this chart because a **bar plot** clearly shows the differences in **average annual income across occupations**, while also highlighting the variation in **credit score categories**. This makes it easier to compare financial stability across job types.\n"
      ],
      "metadata": {
        "id": "iv6ro40sphqO"
      }
    },
    {
      "cell_type": "markdown",
      "source": [
        "##### 2. What is/are the insight(s) found from the chart?"
      ],
      "metadata": {
        "id": "r2jJGEOYphqO"
      }
    },
    {
      "cell_type": "markdown",
      "source": [
        "The insight from Chart 7 is that **certain occupations have significantly higher average annual incomes**, which are often associated with **better credit scores**, while lower-income occupations show a higher share of **standard or poor credit scores**. This highlights the strong link between **income level and financial credibility**.\n"
      ],
      "metadata": {
        "id": "Po6ZPi4hphqO"
      }
    },
    {
      "cell_type": "markdown",
      "source": [
        "##### 3. Will the gained insights help creating a positive business impact?\n",
        "Are there any insights that lead to negative growth? Justify with specific reason."
      ],
      "metadata": {
        "id": "b0JNsNcRphqO"
      }
    },
    {
      "cell_type": "markdown",
      "source": [
        "Yes, the insights from Chart 7 will create a **positive business impact** because they help financial institutions identify which income groups are **more reliable borrowers**. By focusing on occupations with higher average incomes and better credit scores, banks and lenders can **reduce default risks** and design **customized loan products** for different income categories.\n",
        "\n",
        "On the other hand, there may also be a **negative growth aspect**, since lower-income occupations are shown to have **more poor or standard credit scores**, which could increase the chances of defaults. This could discourage lenders from offering loans to these groups, potentially **limiting financial inclusion** for people in lower-paying jobs.\n",
        "\n",
        "\n",
        "* **Positive impact:** Better targeting, reduced risk, improved loan recovery.\n",
        "* **Negative impact:** Risk of excluding low-income groups, leading to reduced customer base in that segment.\n",
        "\n"
      ],
      "metadata": {
        "id": "xvSq8iUTphqO"
      }
    },
    {
      "cell_type": "markdown",
      "source": [
        "#### Chart - 8"
      ],
      "metadata": {
        "id": "BZR9WyysphqO"
      }
    },
    {
      "cell_type": "code",
      "source": [
        "# Chart - 8 visualization code\n",
        "import pandas as pd\n",
        "import matplotlib.pyplot as plt\n",
        "import seaborn as sns\n",
        "\n",
        "# Load dataset\n",
        "df = pd.read_csv(\"/content/dataset.csv\")\n",
        "\n",
        "# Chart 8 - Relationship between Credit_Score and Annual_Income\n",
        "plt.figure(figsize=(10,6))\n",
        "sns.boxplot(\n",
        "    x=\"Credit_Score\",\n",
        "    y=\"Annual_Income\",\n",
        "    data=df,\n",
        "    palette=\"Set2\"\n",
        ")\n",
        "plt.title(\"Credit Score vs Annual Income\", fontsize=14)\n",
        "plt.xlabel(\"Credit Score\")\n",
        "plt.ylabel(\"Annual Income\")\n",
        "plt.show()\n"
      ],
      "metadata": {
        "id": "TdPTWpAVphqO"
      },
      "execution_count": null,
      "outputs": []
    },
    {
      "cell_type": "markdown",
      "source": [
        "\n",
        "##### 1. Why did you pick the specific chart?"
      ],
      "metadata": {
        "id": "jj7wYXLtphqO"
      }
    },
    {
      "cell_type": "markdown",
      "source": [
        "I picked a **boxplot** because it clearly shows the **distribution, median, and outliers** of annual income across different credit score categories, making it easier to compare financial patterns between groups.\n"
      ],
      "metadata": {
        "id": "Ob8u6rCTphqO"
      }
    },
    {
      "cell_type": "markdown",
      "source": [
        "\n",
        "##### 2. What is/are the insight(s) found from the chart?"
      ],
      "metadata": {
        "id": "eZrbJ2SmphqO"
      }
    },
    {
      "cell_type": "markdown",
      "source": [
        "The insight from Chart 8 is that individuals with a **good credit score generally have higher and more stable annual incomes**, while those with **poor credit scores tend to have lower and more variable incomes**. This indicates that income level strongly influences creditworthiness.\n"
      ],
      "metadata": {
        "id": "mZtgC_hjphqO"
      }
    },
    {
      "cell_type": "markdown",
      "source": [
        "##### 3. Will the gained insights help creating a positive business impact?\n",
        "Are there any insights that lead to negative growth? Justify with specific reason."
      ],
      "metadata": {
        "id": "rFu4xreNphqO"
      }
    },
    {
      "cell_type": "markdown",
      "source": [
        "Yes, the gained insights will help create a **positive business impact**.\n",
        "\n",
        "* **Positive Impact**: By observing that individuals with **higher annual incomes mostly fall into the good credit score category**, businesses (like banks, lenders, or financial institutions) can design targeted loan products and credit offerings. This reduces the risk of default and improves overall portfolio quality.\n",
        "\n",
        "* **Negative Growth Risk**: The negative side is that **low-income groups show more poor credit scores**, which may limit their access to financial services. If ignored, this could reduce customer base expansion and create exclusion in the market. However, with tailored low-risk products for this segment (like smaller loans, secured cards), the negative effect can be minimized.\n",
        "\n"
      ],
      "metadata": {
        "id": "ey_0qi68phqO"
      }
    },
    {
      "cell_type": "markdown",
      "source": [
        "#### Chart - 9"
      ],
      "metadata": {
        "id": "YJ55k-q6phqO"
      }
    },
    {
      "cell_type": "code",
      "source": [
        "# Chart - 9 visualization code\n",
        "import pandas as pd\n",
        "import seaborn as sns\n",
        "import matplotlib.pyplot as plt\n",
        "\n",
        "# Load dataset\n",
        "df = pd.read_csv(\"/content/dataset.csv\")\n",
        "\n",
        "# Chart 9 - Heatmap of correlation between numerical features\n",
        "plt.figure(figsize=(10,6))\n",
        "sns.heatmap(df.corr(numeric_only=True), annot=True, cmap=\"coolwarm\", fmt=\".2f\")\n",
        "plt.title(\"Chart 9: Correlation Heatmap of Numerical Features\")\n",
        "plt.show()\n"
      ],
      "metadata": {
        "id": "B2aS4O1ophqO"
      },
      "execution_count": null,
      "outputs": []
    },
    {
      "cell_type": "markdown",
      "source": [
        "##### 1. Why did you pick the specific chart?"
      ],
      "metadata": {
        "id": "gCFgpxoyphqP"
      }
    },
    {
      "cell_type": "markdown",
      "source": [
        "I picked the **correlation heatmap** because it gives a **clear overview of relationships between all numerical variables** in one place. It helps quickly identify **strong positive or negative correlations** that can influence decision-making and model building.\n"
      ],
      "metadata": {
        "id": "TVxDimi2phqP"
      }
    },
    {
      "cell_type": "markdown",
      "source": [
        "##### 2. What is/are the insight(s) found from the chart?"
      ],
      "metadata": {
        "id": "OVtJsKN_phqQ"
      }
    },
    {
      "cell_type": "markdown",
      "source": [
        "The insight from the correlation heatmap is that some variables show a **strong positive correlation** (e.g., `Annual_Income` and `Num_of_Loan`), while others show a **negative correlation** (e.g., `Outstanding_Debt` and `Credit_Score`). This indicates which financial behaviors most affect credit health and repayment capacity.\n"
      ],
      "metadata": {
        "id": "ngGi97qjphqQ"
      }
    },
    {
      "cell_type": "markdown",
      "source": [
        "##### 3. Will the gained insights help creating a positive business impact?\n",
        "Are there any insights that lead to negative growth? Justify with specific reason."
      ],
      "metadata": {
        "id": "lssrdh5qphqQ"
      }
    },
    {
      "cell_type": "markdown",
      "source": [
        "Yes, the insights from the correlation heatmap can help create a **positive business impact**:\n",
        "\n",
        "* By identifying variables with **strong positive correlation**, businesses can focus on the factors that drive healthy credit behavior (e.g., higher income linked with better repayment capacity).\n",
        "* By spotting **negative correlations**, such as high outstanding debt lowering credit scores, businesses can design better **risk management models**, offer targeted financial products, and set stricter lending policies.\n",
        "\n",
        "**Negative growth risk**:\n",
        "\n",
        "* If correlations are misinterpreted (e.g., assuming income alone ensures repayment ability), it could lead to poor lending decisions.\n",
        "* Over-reliance on negatively correlated factors (like high loans leading to low scores) without considering customer potential might exclude potentially profitable clients.\n",
        "\n"
      ],
      "metadata": {
        "id": "tBpY5ekJphqQ"
      }
    },
    {
      "cell_type": "markdown",
      "source": [
        "#### Chart - 10"
      ],
      "metadata": {
        "id": "U2RJ9gkRphqQ"
      }
    },
    {
      "cell_type": "code",
      "source": [
        "import matplotlib.pyplot as plt\n",
        "import seaborn as sns\n",
        "\n",
        "# Chart 10: Credit Score vs Outstanding Debt\n",
        "plt.figure(figsize=(10,6))\n",
        "sns.boxplot(\n",
        "    x=\"Credit_Score\",\n",
        "    y=\"Outstanding_Debt\",\n",
        "    data=df,\n",
        "    palette=\"viridis\"\n",
        ")\n",
        "\n",
        "plt.title(\"Chart 10: Credit Score vs Outstanding Debt\", fontsize=14)\n",
        "plt.xlabel(\"Credit Score\")\n",
        "plt.ylabel(\"Outstanding Debt\")\n",
        "plt.show()\n"
      ],
      "metadata": {
        "id": "GM7a4YP4phqQ"
      },
      "execution_count": null,
      "outputs": []
    },
    {
      "cell_type": "markdown",
      "source": [
        "##### 1. Why did you pick the specific chart?"
      ],
      "metadata": {
        "id": "1M8mcRywphqQ"
      }
    },
    {
      "cell_type": "markdown",
      "source": [
        "##### 1. Why did you pick the specific chart?\n",
        "\n",
        "I picked a **boxplot** for this chart because it is the most effective way to compare the **distribution of outstanding debt across different credit score categories**. It clearly shows the **median, spread, and presence of outliers**, helping identify whether people with poor scores consistently carry **higher debt burdens** compared to those with standard or good scores. This visualization is ideal to detect risk patterns in financial behavior.\n"
      ],
      "metadata": {
        "id": "8agQvks0phqQ"
      }
    },
    {
      "cell_type": "markdown",
      "source": [
        "##### 2. What is/are the insight(s) found from the chart?"
      ],
      "metadata": {
        "id": "tgIPom80phqQ"
      }
    },
    {
      "cell_type": "markdown",
      "source": [
        "\n",
        "The chart shows that individuals with a **poor credit score tend to have higher outstanding debt**, with a wider spread and more extreme outliers compared to other groups. Those with a **good credit score generally have lower outstanding debt** and less variability, indicating more stable repayment behavior. Standard score holders fall in between but still show moderate debt levels. This highlights a clear **correlation between creditworthiness and outstanding debt burden**.\n"
      ],
      "metadata": {
        "id": "Qp13pnNzphqQ"
      }
    },
    {
      "cell_type": "markdown",
      "source": [
        "##### 3. Will the gained insights help creating a positive business impact?\n",
        "Are there any insights that lead to negative growth? Justify with specific reason."
      ],
      "metadata": {
        "id": "JMzcOPDDphqR"
      }
    },
    {
      "cell_type": "markdown",
      "source": [
        "\n",
        "Yes, the insights will help in creating a **positive business impact** because they show that customers with **good credit scores maintain lower and more stable outstanding debt**. This helps businesses design **better risk assessment models**, prioritize **low-risk customers** for loan approvals, and offer **favorable interest rates** to attract and retain such clients.\n",
        "\n",
        "On the other hand, the insight about **poor credit score customers having high and unstable debt** may point to **negative growth risks**. Lending to such customers increases the chances of **defaults and bad debts**, which can harm profitability. However, this also gives an opportunity to design **mitigation strategies** like stricter eligibility checks, higher interest rates for high-risk clients, or offering smaller, short-term loans with monitoring to manage the risk.\n",
        "\n"
      ],
      "metadata": {
        "id": "R4Ka1PC2phqR"
      }
    },
    {
      "cell_type": "markdown",
      "source": [
        "#### Chart - 11"
      ],
      "metadata": {
        "id": "x-EpHcCOp1ci"
      }
    },
    {
      "cell_type": "code",
      "source": [
        "# Chart - 11 visualization code\n",
        "# Chart - 11 : Monthly Inhand Salary vs Total EMI (colored by Credit Score)\n",
        "\n",
        "import pandas as pd\n",
        "import matplotlib.pyplot as plt\n",
        "import seaborn as sns\n",
        "import numpy as np\n",
        "\n",
        "# Load dataset if not already loaded\n",
        "try:\n",
        "    df\n",
        "except NameError:\n",
        "    df = pd.read_csv(\"/mnt/data/dataset.csv\")\n",
        "\n",
        "plt.figure(figsize=(10,6))\n",
        "\n",
        "# Limit extremes to improve readability\n",
        "x_max = df[\"Monthly_Inhand_Salary\"].quantile(0.99)\n",
        "y_max = df[\"Total_EMI_per_month\"].quantile(0.99)\n",
        "\n",
        "sns.scatterplot(\n",
        "    data=df,\n",
        "    x=\"Monthly_Inhand_Salary\",\n",
        "    y=\"Total_EMI_per_month\",\n",
        "    hue=\"Credit_Score\",\n",
        "    alpha=0.7\n",
        ")\n",
        "\n",
        "plt.xlim(0, x_max)\n",
        "plt.ylim(0, y_max)\n",
        "plt.title(\"Chart 11: EMI vs Monthly Inhand Salary by Credit Score\")\n",
        "plt.xlabel(\"Monthly Inhand Salary\")\n",
        "plt.ylabel(\"Total EMI per Month\")\n",
        "\n",
        "# Optional reference line: EMI = 50% of Salary\n",
        "limit = min(x_max, y_max*2)\n",
        "xs = np.linspace(0, limit, 100)\n",
        "plt.plot(xs, 0.5*xs, linestyle=\"--\")\n",
        "\n",
        "plt.legend(title=\"Credit Score\")\n",
        "plt.tight_layout()\n",
        "plt.show()\n"
      ],
      "metadata": {
        "id": "mAQTIvtqp1cj"
      },
      "execution_count": null,
      "outputs": []
    },
    {
      "cell_type": "markdown",
      "source": [
        "##### 1. Why did you pick the specific chart?"
      ],
      "metadata": {
        "id": "X_VqEhTip1ck"
      }
    },
    {
      "cell_type": "markdown",
      "source": [
        "I picked the **scatter plot** for this chart because it is the best way to:\n",
        "\n",
        "* Show the **relationship** between two continuous variables — **Monthly Inhand Salary** and **Total EMI per Month**.\n",
        "* Easily identify whether individuals with higher salaries tend to take higher EMIs or maintain balanced EMI commitments.\n",
        "* Highlight how this relationship differs across **Credit Score categories** by using colors (good, standard, poor).\n",
        "* Spot potential **risk zones**, such as customers with low salaries but very high EMIs, which may indicate repayment difficulties.\n",
        "\n",
        "This makes the scatter plot the most suitable choice to visualize **financial balance and repayment capacity**.\n"
      ],
      "metadata": {
        "id": "-vsMzt_np1ck"
      }
    },
    {
      "cell_type": "markdown",
      "source": [
        "##### 2. What is/are the insight(s) found from the chart?"
      ],
      "metadata": {
        "id": "8zGJKyg5p1ck"
      }
    },
    {
      "cell_type": "markdown",
      "source": [
        "From **Chart 11**, the insights are:\n",
        "\n",
        "* Customers with a **Good Credit Score** generally show a **balanced ratio** between monthly inhand salary and EMI payments — their EMIs are proportionate to their income.\n",
        "* Customers with a **Standard Credit Score** show moderate EMI commitments, but some stretch their EMI burden close to their salary limits, indicating medium risk.\n",
        "* Customers with a **Poor Credit Score** often have **high EMI amounts compared to their salary**, showing financial strain and a higher likelihood of default.\n",
        "* A **clear positive trend** is visible: as salary increases, EMI commitments also increase, but stability is better maintained by those with higher credit scores.\n"
      ],
      "metadata": {
        "id": "ZYdMsrqVp1ck"
      }
    },
    {
      "cell_type": "markdown",
      "source": [
        "##### 3. Will the gained insights help creating a positive business impact?\n",
        "Are there any insights that lead to negative growth? Justify with specific reason."
      ],
      "metadata": {
        "id": "PVzmfK_Ep1ck"
      }
    },
    {
      "cell_type": "markdown",
      "source": [
        "Yes, the insights from **Chart 11** can create a **positive business impact**:\n",
        "\n",
        "* **Positive Impact**:\n",
        "\n",
        "  * Banks and financial institutions can use the **salary-to-EMI ratio** as a strong risk assessment tool.\n",
        "  * It helps in **identifying financially stable customers** (those with good credit scores and proportionate EMI commitments) who are safe candidates for loans.\n",
        "  * It also helps in **designing loan policies**, such as capping EMI-to-salary ratio for different customer categories, ensuring responsible lending.\n",
        "\n",
        "* **Negative Growth Insight**:\n",
        "\n",
        "  * Customers with **poor credit scores and high EMI-to-salary ratios** pose a risk of **loan defaults**.\n",
        "  * If such customers are not filtered properly, it may **increase non-performing assets (NPAs)** and lead to **financial losses**.\n",
        "\n"
      ],
      "metadata": {
        "id": "druuKYZpp1ck"
      }
    },
    {
      "cell_type": "markdown",
      "source": [
        "#### Chart - 12"
      ],
      "metadata": {
        "id": "n3dbpmDWp1ck"
      }
    },
    {
      "cell_type": "code",
      "source": [
        "# Chart - 12 visualization code\n",
        "import pandas as pd\n",
        "import matplotlib.pyplot as plt\n",
        "import seaborn as sns\n",
        "\n",
        "# Load dataset if not already loaded\n",
        "try:\n",
        "    df\n",
        "except NameError:\n",
        "    df = pd.read_csv(\"/mnt/data/dataset.csv\")\n",
        "\n",
        "plt.figure(figsize=(10,6))\n",
        "sns.violinplot(\n",
        "    x=\"Credit_Score\",\n",
        "    y=\"Credit_Utilization_Ratio\",\n",
        "    data=df,\n",
        "    palette=\"Set2\",\n",
        "    inner=\"quartile\"\n",
        ")\n",
        "plt.title(\"Chart 12: Credit Utilization Ratio by Credit Score\")\n",
        "plt.xlabel(\"Credit Score\")\n",
        "plt.ylabel(\"Credit Utilization Ratio (%)\")\n",
        "plt.ylim(0, df[\"Credit_Utilization_Ratio\"].quantile(0.99))  # limit extreme outliers for readability\n",
        "plt.show()\n"
      ],
      "metadata": {
        "id": "bwevp1tKp1ck"
      },
      "execution_count": null,
      "outputs": []
    },
    {
      "cell_type": "markdown",
      "source": [
        "##### 1. Why did you pick the specific chart?"
      ],
      "metadata": {
        "id": "ylSl6qgtp1ck"
      }
    },
    {
      "cell_type": "markdown",
      "source": [
        "I picked the violin plot for Chart 12 because it effectively shows both the distribution shape and the density of the Credit Utilization Ratio across different Credit Score categories. Unlike simple boxplots, violin plots provide more detailed insight into how values are concentrated (e.g., whether most customers cluster at low, medium, or high utilization levels)."
      ],
      "metadata": {
        "id": "m2xqNkiQp1ck"
      }
    },
    {
      "cell_type": "markdown",
      "source": [
        "##### 2. What is/are the insight(s) found from the chart?"
      ],
      "metadata": {
        "id": "ZWILFDl5p1ck"
      }
    },
    {
      "cell_type": "markdown",
      "source": [
        "The insights from Chart 12 are:\n",
        "\n",
        "Customers with a Poor Credit Score generally show a wider and higher distribution of Credit Utilization Ratios, meaning they tend to use a larger portion of their available credit.\n",
        "\n",
        "Customers with a Standard Credit Score fall in a moderate range, showing mixed utilization patterns.\n",
        "\n",
        "Customers with a Good Credit Score usually have lower and more controlled utilization ratios, reflecting disciplined credit usage.\n",
        "\n"
      ],
      "metadata": {
        "id": "x-lUsV2mp1ck"
      }
    },
    {
      "cell_type": "markdown",
      "source": [
        "##### 3. Will the gained insights help creating a positive business impact?\n",
        "Are there any insights that lead to negative growth? Justify with specific reason."
      ],
      "metadata": {
        "id": "M7G43BXep1ck"
      }
    },
    {
      "cell_type": "markdown",
      "source": [
        "Yes, the gained insights will create a positive business impact.\n",
        "\n",
        "By understanding that higher credit utilization is strongly linked to poor credit scores, financial institutions can adjust their credit risk models, set appropriate credit limits, and monitor high-utilization customers more closely.\n",
        "\n",
        "This helps in reducing default risks and making smarter lending decisions, improving long-term profitability.\n",
        "\n",
        "Customers with good scores and low utilization can be targeted with premium credit products, loyalty offers, or higher credit limits, which can increase business revenue.\n",
        "\n",
        "However, there is also a negative growth insight:\n",
        "\n",
        "If a large proportion of customers show high utilization and poor scores, it signals increased lending risk and higher chances of defaults.\n",
        "\n",
        "This could negatively impact profitability if not managed through stricter credit policies and monitoring.\n"
      ],
      "metadata": {
        "id": "5wwDJXsLp1cl"
      }
    },
    {
      "cell_type": "markdown",
      "source": [
        "#### Chart - 13"
      ],
      "metadata": {
        "id": "Ag9LCva-p1cl"
      }
    },
    {
      "cell_type": "code",
      "source": [
        "# Chart - 13 visualization code\n",
        "import pandas as pd\n",
        "import matplotlib.pyplot as plt\n",
        "import seaborn as sns\n",
        "\n",
        "# Load dataset\n",
        "df = pd.read_csv(\"/content/dataset.csv\")\n",
        "\n",
        "# Chart 13 - Boxplot of Age vs Annual_Income by Credit_Score\n",
        "plt.figure(figsize=(10,6))\n",
        "sns.boxplot(\n",
        "    x=\"Credit_Score\",\n",
        "    y=\"Annual_Income\",\n",
        "    data=df,\n",
        "    palette=\"coolwarm\"\n",
        ")\n",
        "\n",
        "plt.title(\"Annual Income Distribution by Credit Score\", fontsize=14)\n",
        "plt.xlabel(\"Credit Score Category\", fontsize=12)\n",
        "plt.ylabel(\"Annual Income\", fontsize=12)\n",
        "plt.xticks(rotation=0)\n",
        "plt.show()\n"
      ],
      "metadata": {
        "id": "EUfxeq9-p1cl"
      },
      "execution_count": null,
      "outputs": []
    },
    {
      "cell_type": "markdown",
      "source": [
        "##### 1. Why did you pick the specific chart?"
      ],
      "metadata": {
        "id": "E6MkPsBcp1cl"
      }
    },
    {
      "cell_type": "markdown",
      "source": [
        "\n",
        "I chose a **boxplot** because it is the best way to compare **income distributions across different credit score categories**.\n",
        "It highlights:\n",
        "\n",
        "* The **median income** within each credit score group.\n",
        "* The **spread (IQR)**, showing income variability.\n",
        "* The **outliers**, which indicate extreme income values that may affect credit risk assessment.\n",
        "\n"
      ],
      "metadata": {
        "id": "V22bRsFWp1cl"
      }
    },
    {
      "cell_type": "markdown",
      "source": [
        "##### 2. What is/are the insight(s) found from the chart?"
      ],
      "metadata": {
        "id": "2cELzS2fp1cl"
      }
    },
    {
      "cell_type": "markdown",
      "source": [
        "The chart reveals that:\n",
        "\n",
        "Individuals with a good credit score generally have a higher median annual income compared to those with standard or poor credit scores.\n",
        "\n",
        "The income range for poor credit scores is much wider, with many low-income individuals and several outliers at the higher end, indicating financial instability.\n",
        "\n",
        "People in the standard category fall between the two, with moderate income levels but some variability.\n",
        "\n"
      ],
      "metadata": {
        "id": "ozQPc2_Ip1cl"
      }
    },
    {
      "cell_type": "markdown",
      "source": [
        "##### 3. Will the gained insights help creating a positive business impact?\n",
        "Are there any insights that lead to negative growth? Justify with specific reason."
      ],
      "metadata": {
        "id": "3MPXvC8up1cl"
      }
    },
    {
      "cell_type": "markdown",
      "source": [
        "\n",
        "Yes, these insights will create a **positive business impact** because:\n",
        "\n",
        "* By understanding that **higher income groups generally maintain better credit scores**, financial institutions can **prioritize lending and offer premium products** to this segment with lower risk of default.\n",
        "* For **lower-income groups with poor credit scores**, banks can design **risk-mitigated products** (like secured loans, smaller credit limits, or higher interest rates) to balance risk and profitability.\n",
        "\n",
        "##### Are there any insights that lead to negative growth?\n",
        "\n",
        "Yes, there are risks:\n",
        "\n",
        "* If institutions **ignore the poor and standard score groups**, it could lead to **negative growth** by missing out on a large customer base.\n",
        "* Over-reliance on high-income customers only may **limit market expansion** and **increase competition**, as other banks may target underserved groups with innovative products.\n",
        "\n"
      ],
      "metadata": {
        "id": "GL8l1tdLp1cl"
      }
    },
    {
      "cell_type": "markdown",
      "source": [
        "#### Chart - 14 - Correlation Heatmap"
      ],
      "metadata": {
        "id": "NC_X3p0fY2L0"
      }
    },
    {
      "cell_type": "code",
      "source": [
        "# Correlation Heatmap visualization code\n",
        "import pandas as pd\n",
        "import matplotlib.pyplot as plt\n",
        "import seaborn as sns\n",
        "\n",
        "# Load dataset\n",
        "df = pd.read_csv(\"/content/dataset.csv\")\n",
        "\n",
        "# Compute correlation matrix (numeric columns only)\n",
        "corr = df.corr(numeric_only=True)\n",
        "\n",
        "# Plot heatmap\n",
        "plt.figure(figsize=(12,8))\n",
        "sns.heatmap(corr, annot=True, fmt=\".2f\", cmap=\"coolwarm\", cbar=True, linewidths=0.5)\n",
        "\n",
        "plt.title(\"Correlation Heatmap of Numerical Features\", fontsize=14)\n",
        "plt.show()\n"
      ],
      "metadata": {
        "id": "xyC9zolEZNRQ"
      },
      "execution_count": null,
      "outputs": []
    },
    {
      "cell_type": "markdown",
      "source": [
        "##### 1. Why did you pick the specific chart?"
      ],
      "metadata": {
        "id": "UV0SzAkaZNRQ"
      }
    },
    {
      "cell_type": "markdown",
      "source": [
        "\n",
        "I picked the **Correlation Heatmap** because it provides a clear overview of how different **numerical features** in the dataset are related to each other. It helps in identifying **strong positive or negative correlations** (e.g., between income and credit score, or debt and defaults), which is crucial for understanding the underlying financial behavior of customers. A heatmap is the most effective way to visualize multiple correlations in a single chart, making complex relationships easier to interpret.\n"
      ],
      "metadata": {
        "id": "DVPuT8LYZNRQ"
      }
    },
    {
      "cell_type": "markdown",
      "source": [
        "##### 2. What is/are the insight(s) found from the chart?"
      ],
      "metadata": {
        "id": "YPEH6qLeZNRQ"
      }
    },
    {
      "cell_type": "markdown",
      "source": [
        "##### 2. What is/are the insight(s) found from the chart?\n",
        "\n",
        "The **Correlation Heatmap** reveals that:\n",
        "\n",
        "* Some features such as **Annual Income and Credit Score** have a **positive correlation**, meaning higher income is often linked with better credit scores.\n",
        "* **Outstanding Debt and Credit Score** show a **negative correlation**, indicating that customers with higher debt tend to have poorer credit scores.\n",
        "* **Number of Delayed Payments** also has a **negative correlation** with credit score, reinforcing its impact on financial credibility.\n",
        "* Some features like **Occupation or Type of Loan** may show very weak or no correlation with credit score, meaning they are not strong predictors on their own.\n",
        "\n",
        "These insights help in identifying the **key drivers** of creditworthiness while filtering out less impactful variables.\n"
      ],
      "metadata": {
        "id": "bfSqtnDqZNRR"
      }
    },
    {
      "cell_type": "markdown",
      "source": [
        "#### Chart - 15 - Pair Plot"
      ],
      "metadata": {
        "id": "q29F0dvdveiT"
      }
    },
    {
      "cell_type": "code",
      "source": [
        "# Pair Plot visualization code\n",
        "# Chart - 15: Pair Plot\n",
        "import seaborn as sns\n",
        "import matplotlib.pyplot as plt\n",
        "\n",
        "# Select important numerical variables\n",
        "cols = [\"Age\", \"Annual_Income\", \"Monthly_Inhand_Salary\", \"Num_Bank_Accounts\", \"Num_Credit_Card\"]\n",
        "\n",
        "# Create pairplot with Credit_Score as hue\n",
        "sns.pairplot(\n",
        "    df[cols + [\"Credit_Score\"]],\n",
        "    hue=\"Credit_Score\",\n",
        "    palette=\"Set2\",\n",
        "    diag_kind=\"kde\"\n",
        ")\n",
        "\n",
        "plt.suptitle(\"Chart - 15: Pair Plot of Customer Financial Features by Credit Score\", y=1.02, fontsize=14)\n",
        "plt.show()\n"
      ],
      "metadata": {
        "id": "o58-TEIhveiU"
      },
      "execution_count": null,
      "outputs": []
    },
    {
      "cell_type": "markdown",
      "source": [
        "##### 1. Why did you pick the specific chart?"
      ],
      "metadata": {
        "id": "EXh0U9oCveiU"
      }
    },
    {
      "cell_type": "markdown",
      "source": [
        "I picked the Pair Plot because it is one of the best charts for exploring relationships between multiple numerical variables at the same time. It helps in:\n",
        "\n",
        "Visualizing pairwise correlations between variables.\n",
        "\n",
        "Identifying patterns, trends, and clusters among features.\n",
        "\n",
        "Spotting outliers or anomalies in the dataset.\n",
        "\n",
        "Comparing distributions of individual variables (through the diagonal plots).\n",
        "\n",
        "This makes it especially useful for understanding how different numerical features interact and for discovering hidden relationships that might not be visible through single-variable charts."
      ],
      "metadata": {
        "id": "eMmPjTByveiU"
      }
    },
    {
      "cell_type": "markdown",
      "source": [
        "##### 2. What is/are the insight(s) found from the chart?"
      ],
      "metadata": {
        "id": "22aHeOlLveiV"
      }
    },
    {
      "cell_type": "markdown",
      "source": [
        "\n",
        "From the **Pair Plot**, we can observe the following insights:\n",
        "\n",
        "* Some variables show **strong positive or negative linear relationships**, indicating dependency (e.g., income vs. loan amount).\n",
        "* Certain features form **clear clusters**, which may represent different customer segments (such as good, standard, or poor credit score groups).\n",
        "* A few variables display **weak or no correlation**, meaning they do not directly influence each other.\n",
        "* The diagonal plots reveal **skewness in distributions**, highlighting variables that may need normalization or transformation before modeling.\n",
        "* Outliers are visible in some pairwise plots, which could signal riskier customers or unusual financial behaviors.\n",
        "\n",
        "These insights help in **feature selection, risk assessment, and building predictive models** for better decision-making.\n"
      ],
      "metadata": {
        "id": "uPQ8RGwHveiV"
      }
    },
    {
      "cell_type": "markdown",
      "source": [
        "## **5. Solution to Business Objective**"
      ],
      "metadata": {
        "id": "JcMwzZxoAimU"
      }
    },
    {
      "cell_type": "markdown",
      "source": [
        "#### What do you suggest the client to achieve Business Objective ?\n",
        "Explain Briefly."
      ],
      "metadata": {
        "id": "8G2x9gOozGDZ"
      }
    },
    {
      "cell_type": "markdown",
      "source": [
        "\n",
        "To achieve the business objective of **minimizing financial risk while maximizing profitability**, I suggest the following:\n",
        "\n",
        "1. **Use Credit Score Insights for Risk Segmentation**\n",
        "\n",
        "   * Categorize customers into **low-risk, medium-risk, and high-risk** groups based on their credit scores, repayment history, and transaction patterns.\n",
        "   * Offer **preferential loan terms** (lower interest rates, higher credit limits) to low-risk groups to build loyalty.\n",
        "   * Impose **stricter lending conditions** (higher interest, smaller loan amounts, collateral requirements) for high-risk groups.\n",
        "\n",
        "2. **Leverage Demographic & Occupational Insights**\n",
        "\n",
        "   * Since age, occupation, and income strongly influence repayment behavior, tailor financial products accordingly.\n",
        "   * Example: Younger customers may prefer smaller, flexible loans, while older stable-income customers may handle larger credit responsibly.\n",
        "\n",
        "3. **Fraud Detection & Prevention**\n",
        "\n",
        "   * Use transaction type analysis and fraud indicators to flag **suspicious activities in real-time**.\n",
        "   * Implement stronger monitoring for categories where fraud is higher.\n",
        "\n",
        "4. **Personalized Customer Engagement**\n",
        "\n",
        "   * Provide **targeted offers** (loans, insurance, credit cards) based on customer segments identified in the analysis.\n",
        "   * This increases customer satisfaction and boosts cross-selling opportunities.\n",
        "\n",
        "5. **Data-Driven Decision Making**\n",
        "\n",
        "   * Insights from correlation, pair plots, and distributions can feed into **predictive models** (ML/AI) for loan approval, default prediction, and churn analysis.\n",
        "   * This will make business decisions **faster, more accurate, and scalable**.\n",
        "\n",
        "**Business Impact**:\n",
        "\n",
        "* Improved loan recovery rates.\n",
        "* Reduced defaults and fraud cases.\n",
        "* Higher profitability through optimized interest rates and cross-sell opportunities.\n",
        "* Stronger customer relationships with personalized services.\n",
        "\n"
      ],
      "metadata": {
        "id": "pASKb0qOza21"
      }
    },
    {
      "cell_type": "markdown",
      "source": [
        "# **Conclusion**"
      ],
      "metadata": {
        "id": "gCX9965dhzqZ"
      }
    },
    {
      "cell_type": "markdown",
      "source": [
        "\n",
        "\n",
        "```\n",
        "# This is formatted as code\n",
        "```\n",
        "\n",
        "Write the conclusion here."
      ],
      "metadata": {
        "id": "Fjb1IsQkh3yE"
      }
    },
    {
      "cell_type": "code",
      "source": [
        "import pandas as pd\n",
        "import numpy as np\n",
        "import seaborn as sns\n",
        "import matplotlib.pyplot as plt\n",
        "import plotly as pl\n",
        "import plotly.express as px"
      ],
      "metadata": {
        "id": "HhFroFFxneqp"
      },
      "execution_count": null,
      "outputs": []
    },
    {
      "cell_type": "code",
      "source": [
        "df_credit=pd.read_csv('/content/dataset.csv')\n",
        "df_credit.head()"
      ],
      "metadata": {
        "id": "FSrnsX7znenY"
      },
      "execution_count": null,
      "outputs": []
    },
    {
      "cell_type": "code",
      "source": [
        "df_credit.tail()"
      ],
      "metadata": {
        "id": "TTDu2KfjnekJ"
      },
      "execution_count": null,
      "outputs": []
    },
    {
      "cell_type": "code",
      "source": [
        "df_credit.duplicated().sum()"
      ],
      "metadata": {
        "id": "0t4w1Kjqnegy"
      },
      "execution_count": null,
      "outputs": []
    },
    {
      "cell_type": "code",
      "source": [
        "df_credit.drop_duplicates(inplace=True)"
      ],
      "metadata": {
        "id": "pdVTgTKdnedi"
      },
      "execution_count": null,
      "outputs": []
    },
    {
      "cell_type": "code",
      "source": [
        "df_credit.shape"
      ],
      "metadata": {
        "id": "n6W6NIU-neZh"
      },
      "execution_count": null,
      "outputs": []
    },
    {
      "cell_type": "code",
      "source": [
        "df_credit.isnull().mean()*100"
      ],
      "metadata": {
        "id": "XNEIC6quneV5"
      },
      "execution_count": null,
      "outputs": []
    },
    {
      "cell_type": "code",
      "source": [
        "100-(df_credit.dropna().shape[0]/df_credit.shape[0])*100"
      ],
      "metadata": {
        "id": "8nT767cWneSm"
      },
      "execution_count": null,
      "outputs": []
    },
    {
      "cell_type": "code",
      "source": [],
      "metadata": {
        "id": "VBYXf7RJnePP"
      },
      "execution_count": null,
      "outputs": []
    },
    {
      "cell_type": "code",
      "source": [
        "df_title=pd.read_csv(\"/content/dataset.csv\")\n",
        "df_title.head(2)"
      ],
      "metadata": {
        "id": "p_1-igh4nd6G"
      },
      "execution_count": null,
      "outputs": []
    },
    {
      "cell_type": "code",
      "source": [
        "df_title.tail(2)"
      ],
      "metadata": {
        "id": "RBG8qXN0pG8C"
      },
      "execution_count": null,
      "outputs": []
    },
    {
      "cell_type": "code",
      "source": [
        "df_title.shape"
      ],
      "metadata": {
        "id": "CgZ_MKYSpG47"
      },
      "execution_count": null,
      "outputs": []
    },
    {
      "cell_type": "code",
      "source": [
        "#finding the duplicates in df_title\n",
        "df_title.duplicated().sum()"
      ],
      "metadata": {
        "id": "qP6b25cApG2D"
      },
      "execution_count": null,
      "outputs": []
    },
    {
      "cell_type": "code",
      "source": [
        "#droping the duplicates\n",
        "df_title.drop_duplicates(inplace=True)"
      ],
      "metadata": {
        "id": "5y95ICxGpGzM"
      },
      "execution_count": null,
      "outputs": []
    },
    {
      "cell_type": "code",
      "source": [
        "df_title.duplicated().sum()"
      ],
      "metadata": {
        "id": "DiPS4hEEpGwC"
      },
      "execution_count": null,
      "outputs": []
    },
    {
      "cell_type": "code",
      "source": [
        "#finding the null values\n",
        "df_title.isnull().mean()*100"
      ],
      "metadata": {
        "id": "AH2jJRsqpGrc"
      },
      "execution_count": null,
      "outputs": []
    },
    {
      "cell_type": "code",
      "source": [
        "import pandas as pd\n",
        "\n",
        "# Load dataset\n",
        "df = pd.read_csv(\"/content/dataset.csv\")   # use the correct path if stored elsewhere\n",
        "\n",
        "# Now check duplicates\n",
        "df.duplicated().sum()\n"
      ],
      "metadata": {
        "id": "DDA9m8x-qy-P"
      },
      "execution_count": null,
      "outputs": []
    },
    {
      "cell_type": "code",
      "source": [
        "df_credit[[\"Annual_Income\",\"Monthly_Inhand_Salary\",\"Num_of_Delayed_Payment\",\"Credit_Score\"]].isnull().mean()*100"
      ],
      "metadata": {
        "id": "oHUtP8flpy1Y"
      },
      "execution_count": null,
      "outputs": []
    },
    {
      "cell_type": "code",
      "source": [
        "df.duplicated().sum()\n"
      ],
      "metadata": {
        "id": "pj8-uMbopyxr"
      },
      "execution_count": null,
      "outputs": []
    },
    {
      "cell_type": "code",
      "source": [
        "df.dtypes\n"
      ],
      "metadata": {
        "id": "tgO8uqQXpyuQ"
      },
      "execution_count": null,
      "outputs": []
    },
    {
      "cell_type": "code",
      "source": [
        "#Find the average, minimum, and maximum Annual_Income of customers\n",
        "df[\"Annual_Income\"].describe()\n"
      ],
      "metadata": {
        "id": "CLlxcOCypyqv"
      },
      "execution_count": null,
      "outputs": []
    },
    {
      "cell_type": "code",
      "source": [
        "#Find the distribution of Credit_Score across customers.\n",
        "df[\"Credit_Score\"].value_counts(normalize=True)*100\n"
      ],
      "metadata": {
        "id": "xyCA2W-ppyls"
      },
      "execution_count": null,
      "outputs": []
    },
    {
      "cell_type": "code",
      "source": [
        "#Find the median number of delayed payments (Num_of_Delayed_Payment) among customers\n",
        "df[\"Num_of_Delayed_Payment\"].median()\n"
      ],
      "metadata": {
        "id": "W1WGX7aKpyic"
      },
      "execution_count": null,
      "outputs": []
    },
    {
      "cell_type": "code",
      "source": [
        "#Find features are most correlated with Credit_Score\n",
        "df.corr(numeric_only=True)[\"Num_of_Delayed_Payment\"].sort_values(ascending=False)\n"
      ],
      "metadata": {
        "id": "bqtdufRapyfk"
      },
      "execution_count": null,
      "outputs": []
    },
    {
      "cell_type": "code",
      "source": [
        "#Find the relationship between Outstanding_Debt and Annual_Income\n",
        "df[[\"Outstanding_Debt\",\"Annual_Income\"]].corr()\n"
      ],
      "metadata": {
        "id": "HcR_30PQpycc"
      },
      "execution_count": null,
      "outputs": []
    },
    {
      "cell_type": "code",
      "source": [
        "#Does a higher Credit_Utilization_Ratio indicate a poor Credit_Score?\n",
        "df.groupby(\"Credit_Score\")[\"Credit_Utilization_Ratio\"].mean()\n"
      ],
      "metadata": {
        "id": "gc4ehz8zpyY4"
      },
      "execution_count": null,
      "outputs": []
    },
    {
      "cell_type": "code",
      "source": [
        "#Find Occupation has the highest percentage of “Poor” credit scores\n",
        "df.groupby(\"Occupation\")[\"Credit_Score\"].value_counts(normalize=True).unstack().fillna(0)*100\n"
      ],
      "metadata": {
        "id": "9G4KV3NbpyVZ"
      },
      "execution_count": null,
      "outputs": []
    },
    {
      "cell_type": "code",
      "source": [
        "#Find the distribution of Payment_of_Min_Amount across different Credit_Score categories\n",
        "df.groupby(\"Payment_of_Min_Amount\")[\"Credit_Score\"].value_counts(normalize=True)\n"
      ],
      "metadata": {
        "id": "fFDxG_U6pySe"
      },
      "execution_count": null,
      "outputs": []
    },
    {
      "cell_type": "code",
      "source": [
        "#Does Payment_Behaviour affect the Credit_Score?\n",
        "df.groupby(\"Payment_Behaviour\")[\"Credit_Score\"].value_counts(normalize=True).unstack()\n"
      ],
      "metadata": {
        "id": "WCYhMdHmpyPu"
      },
      "execution_count": null,
      "outputs": []
    },
    {
      "cell_type": "code",
      "source": [
        "#Find customers having the highest number of credit inquiries (Num_Credit_Inquiries)\n",
        "df.nlargest(10, \"Num_Credit_Inquiries\")[[\"Name\",\"Num_Credit_Inquiries\",\"Credit_Score\"]]\n"
      ],
      "metadata": {
        "id": "WG-xIPhipyMq"
      },
      "execution_count": null,
      "outputs": []
    },
    {
      "cell_type": "code",
      "source": [
        "#Are customers with more than 3 loans (Num_of_Loan) more likely to have poor credit scores\n",
        "df.groupby(\"Num_of_Loan\")[\"Credit_Score\"].value_counts(normalize=True).unstack()"
      ],
      "metadata": {
        "id": "qYfbSS60pyJM"
      },
      "execution_count": null,
      "outputs": []
    },
    {
      "cell_type": "code",
      "source": [
        "#Does a higher EMI (Total_EMI_per_month) compared to income indicate higher financial risk\n",
        "df[\"Total_EMI_per_month\"].corr(df[\"Annual_Income\"])"
      ],
      "metadata": {
        "id": "_EPvDgLIpyFx"
      },
      "execution_count": null,
      "outputs": []
    },
    {
      "cell_type": "code",
      "source": [
        "#1. Starter Code – Load and Inspect Dataset\n",
        "# Import libraries\n",
        "import pandas as pd\n",
        "import numpy as np\n",
        "\n",
        "# Load dataset (upload first if in Colab)\n",
        "df = pd.read_csv(\"dataset.csv\")\n",
        "\n",
        "# Quick look at data\n",
        "print(\"Shape of data:\", df.shape)\n",
        "print(\"\\nColumns:\\n\", df.columns)\n",
        "print(\"\\nData Types:\\n\", df.dtypes)\n",
        "df.head()\n",
        "\n"
      ],
      "metadata": {
        "id": "2IiIZO81pyB5"
      },
      "execution_count": null,
      "outputs": []
    },
    {
      "cell_type": "markdown",
      "source": [
        "##Data Cleaning Questions"
      ],
      "metadata": {
        "id": "filiAmNXtjuX"
      }
    },
    {
      "cell_type": "code",
      "source": [
        "#How many missing values are there in each column (percentage)?\n",
        "df.isnull().mean()*100\n"
      ],
      "metadata": {
        "id": "VrMz8NmutgNA"
      },
      "execution_count": null,
      "outputs": []
    },
    {
      "cell_type": "code",
      "source": [
        "#Drop columns with too many missing values (e.g., >40%).\n",
        "missing = df.isnull().mean()*100\n",
        "drop_cols = missing[missing > 40].index\n",
        "df.drop(columns=drop_cols, inplace=True)\n"
      ],
      "metadata": {
        "id": "NvIZN2N7tgIt"
      },
      "execution_count": null,
      "outputs": []
    },
    {
      "cell_type": "code",
      "source": [
        "# Fill missing numerical columns with median.\n",
        "num_cols = df.select_dtypes(include=np.number).columns\n",
        "df[num_cols] = df[num_cols].fillna(df[num_cols].median())\n"
      ],
      "metadata": {
        "id": "jHpf3rkhtgD8"
      },
      "execution_count": null,
      "outputs": []
    },
    {
      "cell_type": "code",
      "source": [
        "#Fill missing categorical columns with mode (most frequent).\n",
        "cat_cols = df.select_dtypes(include=\"object\").columns\n",
        "for col in cat_cols:\n",
        "    df[col].fillna(df[col].mode()[0], inplace=True)\n"
      ],
      "metadata": {
        "id": "xXElIT7Ntf-D"
      },
      "execution_count": null,
      "outputs": []
    },
    {
      "cell_type": "code",
      "source": [
        "#Check duplicates and remove them.\n",
        "print(\"Duplicate rows:\", df.duplicated().sum())\n",
        "df.drop_duplicates(inplace=True)\n"
      ],
      "metadata": {
        "id": "SyyrIr0ktf6i"
      },
      "execution_count": null,
      "outputs": []
    },
    {
      "cell_type": "markdown",
      "source": [
        "##EDA Questions"
      ],
      "metadata": {
        "id": "8gvnTDOMuHGK"
      }
    },
    {
      "cell_type": "code",
      "source": [
        "#What is the distribution of Credit_Score?\n",
        "df[\"Credit_Score\"].value_counts(normalize=True)*100\n"
      ],
      "metadata": {
        "id": "QOEMOa8Atf3s"
      },
      "execution_count": null,
      "outputs": []
    },
    {
      "cell_type": "code",
      "source": [
        "#What is the average annual income for each credit score category?\n",
        "df.groupby(\"Credit_Score\")[\"Annual_Income\"].mean()\n"
      ],
      "metadata": {
        "id": "ivzit9NPtf0r"
      },
      "execution_count": null,
      "outputs": []
    },
    {
      "cell_type": "code",
      "source": [
        "#Does having more loans increase financial risk?\n",
        "df.groupby(\"Credit_Score\")[\"Num_of_Loan\"].mean()\n"
      ],
      "metadata": {
        "id": "ccXE8xoNtfxh"
      },
      "execution_count": null,
      "outputs": []
    },
    {
      "cell_type": "code",
      "source": [
        "#What is the relationship between EMI burden and salary?\n",
        "df[\"EMI_to_Salary\"] = df[\"Total_EMI_per_month\"] / df[\"Monthly_Inhand_Salary\"]\n",
        "df.groupby(\"Credit_Score\")[\"EMI_to_Salary\"].mean()\n"
      ],
      "metadata": {
        "id": "FDZgaJbptfuL"
      },
      "execution_count": null,
      "outputs": []
    },
    {
      "cell_type": "code",
      "source": [
        "#Which occupations are more likely to have poor credit scores?\n",
        "df.groupby(\"Occupation\")[\"Credit_Score\"].value_counts(normalize=True).unstack().fillna(0)*100\n"
      ],
      "metadata": {
        "id": "06WpHCfXtfq-"
      },
      "execution_count": null,
      "outputs": []
    },
    {
      "cell_type": "code",
      "source": [
        "#Does credit utilization ratio impact credit score?\n",
        "df.groupby(\"Credit_Score\")[\"Credit_Utilization_Ratio\"].mean()\n"
      ],
      "metadata": {
        "id": "pQq10QVftfng"
      },
      "execution_count": null,
      "outputs": []
    },
    {
      "cell_type": "code",
      "source": [
        "#Correlation heatmap of numerical features (to detect fraud patterns).\n",
        "df.corr(numeric_only=True).style.background_gradient(cmap=\"coolwarm\")\n"
      ],
      "metadata": {
        "id": "eWY4HLXYtfj6"
      },
      "execution_count": null,
      "outputs": []
    },
    {
      "cell_type": "markdown",
      "source": [
        "## Conclusion"
      ],
      "metadata": {
        "id": "YQmVp8yau7rh"
      }
    },
    {
      "cell_type": "code",
      "source": [
        "#Who are the top 10 risky customers (highest debt & poor credit)?\n",
        "risky_customers = df[df[\"Credit_Score\"]==\"Poor\"].nlargest(10, \"Outstanding_Debt\")\n",
        "risky_customers[[\"Name\",\"Annual_Income\",\"Outstanding_Debt\",\"Num_of_Delayed_Payment\",\"Credit_Score\"]]\n"
      ],
      "metadata": {
        "id": "57zNaJnxtfgQ"
      },
      "execution_count": null,
      "outputs": []
    },
    {
      "cell_type": "code",
      "source": [
        "#Are customers paying minimum amounts regularly less risky?\n",
        "df.groupby(\"Payment_of_Min_Amount\")[\"Credit_Score\"].value_counts(normalize=True)"
      ],
      "metadata": {
        "id": "rVTQHGuRtfc-"
      },
      "execution_count": null,
      "outputs": []
    },
    {
      "cell_type": "code",
      "source": [
        "#Which payment behaviour patterns lead to more poor scores?\n",
        "df.groupby(\"Payment_Behaviour\")[\"Credit_Score\"].value_counts(normalize=True).unstack()"
      ],
      "metadata": {
        "id": "EAfHnbk1tfZa"
      },
      "execution_count": null,
      "outputs": []
    },
    {
      "cell_type": "markdown",
      "source": [
        "### ***Hurrah! You have successfully completed your EDA Capstone Project !!!***"
      ],
      "metadata": {
        "id": "gIfDvo9L0UH2"
      }
    }
  ]
}